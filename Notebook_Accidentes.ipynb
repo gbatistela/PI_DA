{
 "cells": [
  {
   "cell_type": "code",
   "execution_count": 2,
   "metadata": {},
   "outputs": [],
   "source": [
    "import pandas as pd\n",
    "from datetime import timedelta\n",
    "Accidentes_Aviones = pd.read_csv(\"AccidentesAviones.csv\")"
   ]
  },
  {
   "cell_type": "markdown",
   "metadata": {},
   "source": [
    "# EDA (Exploratory Data Analysis)"
   ]
  },
  {
   "cell_type": "markdown",
   "metadata": {},
   "source": [
    "Antes de comenzar vamos a  modificar los nombres de las tablas para mayor entendimiento y perfomance"
   ]
  },
  {
   "cell_type": "code",
   "execution_count": 3,
   "metadata": {},
   "outputs": [],
   "source": [
    "# Creamos un diccionario para hacer un mapeo con los nombres antiguos y sus nombres nuevos\n",
    "\n",
    "Modificacion_Nombres = {\n",
    "    'Unnamed: 0': 'Id',\n",
    "    'fecha': 'Fecha',\n",
    "    'HORA declarada': 'Hora_Declarada',\n",
    "    'Ruta': 'Ubicacion',\n",
    "    'OperadOR': 'Operador',\n",
    "    'flight_no': 'Numero_de_Vuelo',\n",
    "    'route': 'Ruta_del_Vuelo',\n",
    "    'ac_type': 'Tipo_de_Aeronave',\n",
    "    'registration': 'Registro',\n",
    "    'cn_ln': 'Numero_de_Serie',\n",
    "    'all_aboard': 'Total_Personas_a_Bordo',\n",
    "    'PASAJEROS A BORDO': 'Pasajeros_a_Bordo',\n",
    "    'crew_aboard': 'Tripulacion_a_Bordo',\n",
    "    'cantidad de fallecidos': 'Total_Fallecidos',\n",
    "    'passenger_fatalities': 'Fallecidos_Pasajeros',\n",
    "    'crew_fatalities': 'Fallecidos_Tripulacion',\n",
    "    'ground': 'Daños_en_Suelo',\n",
    "    'summary': 'Resumen'\n",
    "}\n",
    "\n",
    "# Renombramos las columnas con el diccionario que hicimos\n",
    "\n",
    "Accidentes_Aviones.rename(columns= Modificacion_Nombres, inplace=True)"
   ]
  },
  {
   "cell_type": "markdown",
   "metadata": {},
   "source": [
    "## Busqueda de valores faltantes"
   ]
  },
  {
   "cell_type": "markdown",
   "metadata": {},
   "source": [
    "Al explorar el DataFrame, hemos notado que se requiere una revisión de los tipos de datos en cada columna y que los valores nulos están representados como '?'. Por lo tanto, nuestro próximo paso es realizar dos acciones principales: primero, ajustar los tipos de datos en cada columna según sea necesario y, segundo, reemplazar los '?' por valores nulos o dejar los campos vacíos según corresponda.\""
   ]
  },
  {
   "cell_type": "markdown",
   "metadata": {},
   "source": [
    "Visualizamos si tiene nulos y que tipo de dato son cada columna"
   ]
  },
  {
   "cell_type": "code",
   "execution_count": 4,
   "metadata": {},
   "outputs": [
    {
     "name": "stdout",
     "output_type": "stream",
     "text": [
      "<class 'pandas.core.frame.DataFrame'>\n",
      "RangeIndex: 5008 entries, 0 to 5007\n",
      "Data columns (total 18 columns):\n",
      " #   Column                  Non-Null Count  Dtype \n",
      "---  ------                  --------------  ----- \n",
      " 0   Id                      5008 non-null   int64 \n",
      " 1   Fecha                   5008 non-null   object\n",
      " 2   Hora_Declarada          5008 non-null   object\n",
      " 3   Ubicacion               5008 non-null   object\n",
      " 4   Operador                5008 non-null   object\n",
      " 5   Numero_de_Vuelo         5008 non-null   object\n",
      " 6   Ruta_del_Vuelo          5007 non-null   object\n",
      " 7   Tipo_de_Aeronave        5008 non-null   object\n",
      " 8   Registro                5008 non-null   object\n",
      " 9   Numero_de_Serie         5008 non-null   object\n",
      " 10  Total_Personas_a_Bordo  5008 non-null   object\n",
      " 11  Pasajeros_a_Bordo       5008 non-null   object\n",
      " 12  Tripulacion_a_Bordo     5008 non-null   object\n",
      " 13  Total_Fallecidos        5008 non-null   object\n",
      " 14  Fallecidos_Pasajeros    5008 non-null   object\n",
      " 15  Fallecidos_Tripulacion  5008 non-null   object\n",
      " 16  Daños_en_Suelo          5008 non-null   object\n",
      " 17  Resumen                 5008 non-null   object\n",
      "dtypes: int64(1), object(17)\n",
      "memory usage: 704.4+ KB\n"
     ]
    }
   ],
   "source": [
    "# Visualizamos el dataframe para ver que podemos modificar\n",
    "Accidentes_Aviones.info()"
   ]
  },
  {
   "cell_type": "markdown",
   "metadata": {},
   "source": [
    "Modificamos la columna \"Fecha\""
   ]
  },
  {
   "cell_type": "code",
   "execution_count": 5,
   "metadata": {},
   "outputs": [],
   "source": [
    "Accidentes_Aviones['Fecha'] = pd.to_datetime(Accidentes_Aviones['Fecha'])"
   ]
  },
  {
   "cell_type": "markdown",
   "metadata": {},
   "source": [
    "Modificamos la columna \"Hora_Declarada\""
   ]
  },
  {
   "cell_type": "code",
   "execution_count": 6,
   "metadata": {},
   "outputs": [],
   "source": [
    "# Pasamos a string\n",
    "Accidentes_Aviones['Hora_Declarada']= Accidentes_Aviones['Hora_Declarada'].astype(str)"
   ]
  },
  {
   "cell_type": "code",
   "execution_count": 7,
   "metadata": {},
   "outputs": [],
   "source": [
    "#  Hacemos una columna \"Horas\" con los dos primeros digitos de la columna \"Hora_Declarada\"\n",
    "Accidentes_Aviones['Horas'] = Accidentes_Aviones['Hora_Declarada'].str[:2]  "
   ]
  },
  {
   "cell_type": "code",
   "execution_count": 8,
   "metadata": {},
   "outputs": [],
   "source": [
    "#  Hacemos una columna \"Minutos\" con los dos ultimos digitos de la columna \"Hora_Declarada\"\n",
    "Accidentes_Aviones['Minutos'] = Accidentes_Aviones['Hora_Declarada'].str[2:]"
   ]
  },
  {
   "cell_type": "code",
   "execution_count": 9,
   "metadata": {},
   "outputs": [],
   "source": [
    "# Combinamos las dos columnas 'Horas' y 'Minutos', y luego transformamos la columna 'Hora_Declarada' al formato datetime.\n",
    "Accidentes_Aviones['Hora_Declarada'] = pd.to_datetime(Accidentes_Aviones['Horas'].astype(str) + ':' + Accidentes_Aviones['Minutos'].astype(str), format='%H:%M',errors='coerce').dt.time"
   ]
  },
  {
   "cell_type": "code",
   "execution_count": 10,
   "metadata": {},
   "outputs": [],
   "source": [
    "# Borramos las columnas \"Horas\" y \"Minutos\", ya que no son necesarias\n",
    "Accidentes_Aviones = Accidentes_Aviones.drop(columns=['Horas', 'Minutos'])"
   ]
  },
  {
   "cell_type": "markdown",
   "metadata": {},
   "source": [
    "### Modificamos las columnas de tipo de dato numerico"
   ]
  },
  {
   "cell_type": "code",
   "execution_count": 11,
   "metadata": {},
   "outputs": [],
   "source": [
    "# Hacemos una lista de las colunas que queremos pasar a tipo numerico\n",
    "Columnas_int = ['Numero_de_Vuelo','Numero_de_Serie','Total_Personas_a_Bordo',\"Pasajeros_a_Bordo\",\"Tripulacion_a_Bordo\",\"Total_Fallecidos\",\"Fallecidos_Pasajeros\",\"Fallecidos_Tripulacion\",\"Daños_en_Suelo\"]\t\n",
    "Accidentes_Aviones[Columnas_int] = Accidentes_Aviones[Columnas_int].apply(pd.to_numeric, errors='coerce').fillna(0).astype(int)"
   ]
  },
  {
   "cell_type": "code",
   "execution_count": 12,
   "metadata": {},
   "outputs": [],
   "source": [
    "# Ahora que las columnas estan tipo numericas pasamos todas a integer\n",
    "for columna in Columnas_int:\n",
    "    Accidentes_Aviones[columna] = Accidentes_Aviones[columna].astype(int)"
   ]
  },
  {
   "cell_type": "code",
   "execution_count": 13,
   "metadata": {},
   "outputs": [],
   "source": [
    "# Todos lo valores restantes que contienen \"?\" los modificamos como nulos\n",
    "import numpy as np\n",
    "Accidentes_Aviones = Accidentes_Aviones.replace('?', \"\")"
   ]
  },
  {
   "cell_type": "markdown",
   "metadata": {},
   "source": [
    "### Modificamos la columna \"Ubicacion\""
   ]
  },
  {
   "cell_type": "code",
   "execution_count": 14,
   "metadata": {},
   "outputs": [],
   "source": [
    "# Pasamos a string\n",
    "Accidentes_Aviones['Ubicacion']= Accidentes_Aviones['Ubicacion'].astype(str)"
   ]
  },
  {
   "cell_type": "code",
   "execution_count": 15,
   "metadata": {},
   "outputs": [],
   "source": [
    "# Hacemos una lista de paises\n",
    "lista_paises = [\n",
    "    \"Afghanistan\", \"Albania\", \"Algeria\", \"Andorra\", \"Angola\", \"Antigua and Barbuda\", \"Argentina\", \"Armenia\",\n",
    "    \"Australia\", \"Austria\", \"Azerbaijan\", \"Bahamas\", \"Bahrain\", \"Bangladesh\", \"Barbados\", \"Belarus\", \"Belgium\",\n",
    "    \"Belize\", \"Benin\", \"Bhutan\", \"Bolivia\", \"Bosnia and Herzegovina\", \"Botswana\", \"Brazil\", \"Brunei\", \"Bulgaria\",\n",
    "    \"Burkina Faso\", \"Burundi\", \"Côte d'Ivoire\", \"Cabo Verde\", \"Cambodia\", \"Cameroon\", \"Canada\",\n",
    "    \"Central African Republic\", \"Chad\", \"Chile\", \"China\", \"Colombia\", \"Comoros\", \"Congo\", \"Costa Rica\", \"Croatia\",\n",
    "    \"Cuba\", \"Cyprus\", \"Czech Republic\", \"Democratic Republic of the Congo\", \"Denmark\", \"Djibouti\", \"Dominica\",\n",
    "    \"Dominican Republic\", \"Ecuador\", \"England\", \"Egypt\", \"El Salvador\", \"Equatorial Guinea\", \"Eritrea\", \"Estonia\",\n",
    "    \"Eswatini\", \"Ethiopia\", \"Fiji\", \"Finland\", \"France\", \"Gabon\", \"Gambia\", \"Georgia\", \"Germany\", \"Ghana\", \"Greece\",\n",
    "    \"Grenada\", \"Guatemala\", \"Guinea\", \"Guinea-Bissau\", \"Guyana\", \"Haiti\", \"Holy See\", \"Honduras\", \"Hungary\",\n",
    "    \"Iceland\", \"India\", \"Indonesia\", \"Iran\", \"Iraq\", \"Ireland\", \"Israel\", \"Italy\",\"Ivory Coast\", \"Jamaica\", \"Japan\", \"Jordan\",\n",
    "    \"Kazakhstan\", \"Kenya\", \"Kiribati\", \"Kuwait\", \"Kyrgyzstan\", \"Laos\", \"Latvia\", \"Lebanon\", \"Lesotho\", \"Liberia\",\n",
    "    \"Libya\", \"Liechtenstein\", \"Lithuania\", \"Luxembourg\", \"Madagascar\", \"Malawi\", \"Malaysia\", \"Maldives\", \"Mali\",\n",
    "    \"Malta\", \"Marshall Islands\", \"Mauritania\", \"Mauritius\", \"Mexico\", \"Micronesia\", \"Moldova\", \"Monaco\", \"Mongolia\",\n",
    "    \"Montenegro\", \"Morocco\", \"Mozambique\", \"Myanmar\", \"Namibia\", \"Nauru\", \"Nepal\", \"Netherlands\", \"New Zealand\",\n",
    "    \"Nicaragua\", \"Nigeria\", \"Niger\", \"North Korea\", \"North Macedonia\", \"Norway\", \"Oman\", \"Pakistan\", \"Palau\",\n",
    "    \"Palestine State\", \"Panama\", \"Papua\", \"Papua New Guinea\", \"Paraguay\", \"Peru\", \"Philippines\", \"Poland\", \"Portugal\", \"Puerto Rico\",\n",
    "    \"Qatar\", \"Romania\", \"Russia\", \"Rwanda\", \"Saint Kitts and Nevis\", \"Saint Lucia\",\n",
    "    \"Saint Vincent and the Grenadines\", \"Samoa\", \"San Marino\", \"Sao Tome and Principe\", \"Saudi Arabia\", \"Senegal\", \"Scotland\",\n",
    "    \"Serbia\", \"Seychelles\", \"Sierra Leone\", \"Singapore\", \"Slovakia\", \"Slovenia\", \"Solomon Islands\", \"Somalia\",\n",
    "    \"South Africa\", \"South Korea\", \"South Sudan\", \"Spain\", \"Sri Lanka\", \"Sudan\", \"Suriname\", \"Sweden\", \"Switzerland\",\n",
    "    \"Syria\", \"Tajikistan\", \"Taiwan\", \"Tanzania\", \"Thailand\", \"Timor-Leste\", \"Togo\", \"Tonga\", \"Trinidad and Tobago\",\n",
    "    \"Tunisia\", \"Turkey\", \"Turkmenistan\", \"Tuvalu\", \"Uganda\", \"Ukraine\", \"United Arab Emirates\", \"United Kingdom\",\n",
    "    \"United States\", \"Uruguay\", \"USSR\", \"Uzbekistan\", \"Vanuatu\", \"Venezuela\", \"Vietnam\", \"Yemen\", \"Zambia\", \"Zimbabwe\"]"
   ]
  },
  {
   "cell_type": "code",
   "execution_count": 16,
   "metadata": {},
   "outputs": [],
   "source": [
    "# Hacemos una funcion, que si un país coincide con el valor en la columna 'Ubicación', lo agregue como el país correspondiente; de lo contrario, lo clasifique como 'Otros'.\n",
    "def obtener_pais(Ubicacion):\n",
    "    for pais in lista_paises:\n",
    "        if pais.lower() in Ubicacion.lower():\n",
    "            return pais\n",
    "    return 'otros'"
   ]
  },
  {
   "cell_type": "code",
   "execution_count": 17,
   "metadata": {},
   "outputs": [],
   "source": [
    "# Utilizamos la funcion para cada fila del dataframe\n",
    "Accidentes_Aviones['Pais'] = Accidentes_Aviones['Ubicacion'].apply(obtener_pais)"
   ]
  },
  {
   "cell_type": "code",
   "execution_count": 18,
   "metadata": {},
   "outputs": [],
   "source": [
    "# Observamos que muchos de los valores corresponden a estados de los Estados Unidos\n",
    "\n",
    "# Lista de estados de los Estados Unidos\n",
    "Estados_USA = [\n",
    "    \"Alabama\", \"Alaska\", \"Arizona\", \"Arkansas\", \"California\", \"Colorado\", \"Connecticut\", \"Delaware\", \"Florida\",\n",
    "    \"Georgia\", \"Hawaii\", \"Idaho\", \"Illinois\", \"Indiana\", \"Iowa\", \"Kansas\", \"Kentucky\", \"Louisiana\", \"Maine\",\n",
    "    \"Maryland\", \"Massachusetts\", \"Michigan\", \"Minnesota\", \"Mississippi\", \"Missouri\", \"Montana\", \"Nebraska\",\n",
    "    \"Nevada\", \"New Hampshire\", \"New Jersey\", \"New Mexico\", \"New York\", \"North Carolina\", \"North Dakota\", \"Ohio\",\n",
    "    \"Oklahoma\", \"Oregon\", \"Pennsylvania\", \"Rhode Island\", \"South Carolina\", \"South Dakota\", \"Tennessee\", \"Texas\",\n",
    "    \"Utah\", \"Vermont\", \"Virginia\", \"Washington\", \"West Virginia\", \"Wisconsin\", \"Wyoming\"\n",
    "]"
   ]
  },
  {
   "cell_type": "code",
   "execution_count": 19,
   "metadata": {},
   "outputs": [],
   "source": [
    "# Reemplazamos en  'Pais' el valor 'otros' por 'United States' si 'Pais' contiene un estado de los Estados Unidos\n",
    "Accidentes_Aviones.loc[Accidentes_Aviones['Ubicacion'].str.contains('|'.join(Estados_USA), case=False, na=False), 'Pais'] = 'United States'"
   ]
  },
  {
   "cell_type": "code",
   "execution_count": 20,
   "metadata": {},
   "outputs": [],
   "source": [
    "# Agrupamos los datos por país y sumamos la cantidad de accidentes\n",
    "total_accidentes_por_pais = Accidentes_Aviones.groupby('Pais')['Fecha'].count()"
   ]
  },
  {
   "cell_type": "code",
   "execution_count": 49,
   "metadata": {},
   "outputs": [
    {
     "data": {
      "text/plain": [
       "Pais\n",
       "United States    1037\n",
       "otros             341\n",
       "Russia            255\n",
       "Brazil            176\n",
       "Colombia          150\n",
       "Canada            133\n",
       "France            129\n",
       "India             112\n",
       "England           101\n",
       "Indonesia          99\n",
       "Name: Fecha, dtype: int64"
      ]
     },
     "execution_count": 49,
     "metadata": {},
     "output_type": "execute_result"
    }
   ],
   "source": [
    "top_10_paises = total_accidentes_por_pais.nlargest(10)\n",
    "top_10_paises"
   ]
  },
  {
   "cell_type": "markdown",
   "metadata": {},
   "source": [
    "### Modificamos la columna \"Operador\"\n",
    "\n",
    "Creamos una nueva columna con aviones militares y no militares"
   ]
  },
  {
   "cell_type": "code",
   "execution_count": 22,
   "metadata": {},
   "outputs": [],
   "source": [
    "# Si en la columna 'Operador' coincide con alguna de las palabras en la 'lista_palabras', \n",
    "# entonces se considera que se trata de aviones militares; de lo contrario aviones no militares.\" \n",
    "\n",
    "lista_palabras = ['Military', 'Air Force', 'Army']\n",
    "\n",
    "# Busca cualquier palabra clave que exista en la lista\n",
    "pattern = '|'.join(lista_palabras)\n",
    "\n",
    "# Buscamos las coincidencia que tienen \"lista_palabras\" con la columna \"Operador\"\n",
    "Accidentes_Aviones['Tipo_Avion'] = np.where(Accidentes_Aviones['Operador'].str.contains('|'.join(lista_palabras), case=False), 'militar', 'no-militar')\n"
   ]
  },
  {
   "cell_type": "code",
   "execution_count": 23,
   "metadata": {},
   "outputs": [
    {
     "data": {
      "text/plain": [
       "Tipo_Avion\n",
       "no-militar    4217\n",
       "militar        791\n",
       "Name: count, dtype: int64"
      ]
     },
     "execution_count": 23,
     "metadata": {},
     "output_type": "execute_result"
    }
   ],
   "source": [
    "Accidentes_Aviones[\"Tipo_Avion\"].value_counts()"
   ]
  },
  {
   "cell_type": "markdown",
   "metadata": {},
   "source": [
    "### Modificamos Tipos_Aeronaves"
   ]
  },
  {
   "cell_type": "code",
   "execution_count": 24,
   "metadata": {},
   "outputs": [],
   "source": [
    "# Hacemos una lista de las marcas de las aeronaves\n",
    "marca = [\n",
    "    \"Boeing 747\",\n",
    "    \"Airbus A320\",\n",
    "    \"Lockheed Martin F-35\",\n",
    "    \"Bombardier Global 6000\",\n",
    "    \"Embraer E175\",\n",
    "    \"Gulfstream G650\",\n",
    "    \"Cessna Citation X\",\n",
    "    \"Dassault Falcon 7X\",\n",
    "    \"Beechcraft King Air 350\",\n",
    "    \"Piper PA-28 Cherokee\",\n",
    "    \"Saab 340\",\n",
    "    \"Sukhoi Su-30\",\n",
    "    \"Antonov An-124 Ruslan\",\n",
    "    \"McDonnell Douglas MD-80\",\n",
    "]"
   ]
  },
  {
   "cell_type": "code",
   "execution_count": 51,
   "metadata": {},
   "outputs": [],
   "source": [
    "# Creamos una funcion,  si la lista \"marca\" coincide con el valor en la columna 'Tipo_de_Aeronave', lo incluirá en la columna; en caso contrario, será categorizado como 'Otros'.\"\n",
    "def Marca_aeronave(Tipo_de_Aeronave):\n",
    "    for i in marca:\n",
    "        if any(word.lower() in Tipo_de_Aeronave.lower().split() for word in i.split()):\n",
    "            return i\n",
    "    return 'Otros'\n"
   ]
  },
  {
   "cell_type": "code",
   "execution_count": 52,
   "metadata": {},
   "outputs": [],
   "source": [
    "# Utilizamos la funcion para cada fila del dataframe\n",
    "Accidentes_Aviones[\"Marca_Avion\"] = Accidentes_Aviones['Tipo_de_Aeronave'].apply(Marca_aeronave)"
   ]
  },
  {
   "cell_type": "code",
   "execution_count": 53,
   "metadata": {},
   "outputs": [
    {
     "data": {
      "text/plain": [
       "Marca_Avion\n",
       "Otros                      2546\n",
       "McDonnell Douglas MD-80    1116\n",
       "Boeing 747                  411\n",
       "Lockheed Martin F-35        352\n",
       "Antonov An-124 Ruslan       286\n",
       "Cessna Citation X            72\n",
       "Beechcraft King Air 350      67\n",
       "Embraer E175                 60\n",
       "Airbus A320                  45\n",
       "Piper PA-28 Cherokee         24\n",
       "Name: Fecha, dtype: int64"
      ]
     },
     "execution_count": 53,
     "metadata": {},
     "output_type": "execute_result"
    }
   ],
   "source": [
    "Marcas_Mas_Accidentes = Accidentes_Aviones.groupby(\"Marca_Avion\")[\"Fecha\"].count()\n",
    "Marcas_Mas_Accidentes.nlargest(10)"
   ]
  },
  {
   "cell_type": "markdown",
   "metadata": {},
   "source": [
    "Personas Sobrevivientes"
   ]
  },
  {
   "cell_type": "code",
   "execution_count": 55,
   "metadata": {},
   "outputs": [],
   "source": [
    "# Creamos una columna Sobrevivientes \n",
    "Accidentes_Aviones[\"Sobrevivientes\"] = Accidentes_Aviones[\"Total_Personas_a_Bordo\"] - Accidentes_Aviones[\"Total_Fallecidos\"]"
   ]
  },
  {
   "cell_type": "code",
   "execution_count": 56,
   "metadata": {},
   "outputs": [
    {
     "data": {
      "text/html": [
       "<div>\n",
       "<style scoped>\n",
       "    .dataframe tbody tr th:only-of-type {\n",
       "        vertical-align: middle;\n",
       "    }\n",
       "\n",
       "    .dataframe tbody tr th {\n",
       "        vertical-align: top;\n",
       "    }\n",
       "\n",
       "    .dataframe thead th {\n",
       "        text-align: right;\n",
       "    }\n",
       "</style>\n",
       "<table border=\"1\" class=\"dataframe\">\n",
       "  <thead>\n",
       "    <tr style=\"text-align: right;\">\n",
       "      <th></th>\n",
       "      <th>Fecha</th>\n",
       "      <th>Hora_Declarada</th>\n",
       "      <th>Ubicacion</th>\n",
       "      <th>Operador</th>\n",
       "      <th>Numero_de_Vuelo</th>\n",
       "      <th>Ruta_del_Vuelo</th>\n",
       "      <th>Tipo_de_Aeronave</th>\n",
       "      <th>Numero_de_Serie</th>\n",
       "      <th>Total_Personas_a_Bordo</th>\n",
       "      <th>Pasajeros_a_Bordo</th>\n",
       "      <th>Tripulacion_a_Bordo</th>\n",
       "      <th>Total_Fallecidos</th>\n",
       "      <th>Fallecidos_Pasajeros</th>\n",
       "      <th>Fallecidos_Tripulacion</th>\n",
       "      <th>Daños_en_Suelo</th>\n",
       "      <th>Pais</th>\n",
       "      <th>Tipo_Avion</th>\n",
       "      <th>Marca_Avion</th>\n",
       "      <th>Sobrevivientes</th>\n",
       "      <th>Año</th>\n",
       "    </tr>\n",
       "  </thead>\n",
       "  <tbody>\n",
       "    <tr>\n",
       "      <th>0</th>\n",
       "      <td>1908-09-17</td>\n",
       "      <td>17:18:00</td>\n",
       "      <td>Fort Myer, Virginia</td>\n",
       "      <td>Military - U.S. Army</td>\n",
       "      <td>0</td>\n",
       "      <td>Demonstration</td>\n",
       "      <td>Wright Flyer III</td>\n",
       "      <td>1</td>\n",
       "      <td>2</td>\n",
       "      <td>1</td>\n",
       "      <td>1</td>\n",
       "      <td>1</td>\n",
       "      <td>1</td>\n",
       "      <td>0</td>\n",
       "      <td>0</td>\n",
       "      <td>United States</td>\n",
       "      <td>militar</td>\n",
       "      <td>Otros</td>\n",
       "      <td>1</td>\n",
       "      <td>1908</td>\n",
       "    </tr>\n",
       "    <tr>\n",
       "      <th>1</th>\n",
       "      <td>1909-09-07</td>\n",
       "      <td>NaT</td>\n",
       "      <td>Juvisy-sur-Orge, France</td>\n",
       "      <td></td>\n",
       "      <td>0</td>\n",
       "      <td>Air show</td>\n",
       "      <td>Wright Byplane</td>\n",
       "      <td>0</td>\n",
       "      <td>1</td>\n",
       "      <td>0</td>\n",
       "      <td>1</td>\n",
       "      <td>1</td>\n",
       "      <td>0</td>\n",
       "      <td>0</td>\n",
       "      <td>0</td>\n",
       "      <td>France</td>\n",
       "      <td>no-militar</td>\n",
       "      <td>Otros</td>\n",
       "      <td>0</td>\n",
       "      <td>1909</td>\n",
       "    </tr>\n",
       "    <tr>\n",
       "      <th>2</th>\n",
       "      <td>1912-07-12</td>\n",
       "      <td>06:30:00</td>\n",
       "      <td>Atlantic City, New Jersey</td>\n",
       "      <td>Military - U.S. Navy</td>\n",
       "      <td>0</td>\n",
       "      <td>Test flight</td>\n",
       "      <td>Dirigible</td>\n",
       "      <td>0</td>\n",
       "      <td>5</td>\n",
       "      <td>0</td>\n",
       "      <td>5</td>\n",
       "      <td>5</td>\n",
       "      <td>0</td>\n",
       "      <td>5</td>\n",
       "      <td>0</td>\n",
       "      <td>United States</td>\n",
       "      <td>militar</td>\n",
       "      <td>Otros</td>\n",
       "      <td>0</td>\n",
       "      <td>1912</td>\n",
       "    </tr>\n",
       "    <tr>\n",
       "      <th>3</th>\n",
       "      <td>1913-08-06</td>\n",
       "      <td>NaT</td>\n",
       "      <td>Victoria, British Columbia, Canada</td>\n",
       "      <td>Private</td>\n",
       "      <td>0</td>\n",
       "      <td></td>\n",
       "      <td>Curtiss seaplane</td>\n",
       "      <td>0</td>\n",
       "      <td>1</td>\n",
       "      <td>0</td>\n",
       "      <td>1</td>\n",
       "      <td>1</td>\n",
       "      <td>0</td>\n",
       "      <td>1</td>\n",
       "      <td>0</td>\n",
       "      <td>Canada</td>\n",
       "      <td>no-militar</td>\n",
       "      <td>Otros</td>\n",
       "      <td>0</td>\n",
       "      <td>1913</td>\n",
       "    </tr>\n",
       "    <tr>\n",
       "      <th>4</th>\n",
       "      <td>1913-09-09</td>\n",
       "      <td>18:30:00</td>\n",
       "      <td>Over the North Sea</td>\n",
       "      <td>Military - German Navy</td>\n",
       "      <td>0</td>\n",
       "      <td></td>\n",
       "      <td>Zeppelin L-1 (airship)</td>\n",
       "      <td>0</td>\n",
       "      <td>20</td>\n",
       "      <td>0</td>\n",
       "      <td>0</td>\n",
       "      <td>14</td>\n",
       "      <td>0</td>\n",
       "      <td>0</td>\n",
       "      <td>0</td>\n",
       "      <td>otros</td>\n",
       "      <td>militar</td>\n",
       "      <td>Otros</td>\n",
       "      <td>6</td>\n",
       "      <td>1913</td>\n",
       "    </tr>\n",
       "    <tr>\n",
       "      <th>...</th>\n",
       "      <td>...</td>\n",
       "      <td>...</td>\n",
       "      <td>...</td>\n",
       "      <td>...</td>\n",
       "      <td>...</td>\n",
       "      <td>...</td>\n",
       "      <td>...</td>\n",
       "      <td>...</td>\n",
       "      <td>...</td>\n",
       "      <td>...</td>\n",
       "      <td>...</td>\n",
       "      <td>...</td>\n",
       "      <td>...</td>\n",
       "      <td>...</td>\n",
       "      <td>...</td>\n",
       "      <td>...</td>\n",
       "      <td>...</td>\n",
       "      <td>...</td>\n",
       "      <td>...</td>\n",
       "      <td>...</td>\n",
       "    </tr>\n",
       "    <tr>\n",
       "      <th>5003</th>\n",
       "      <td>2021-03-28</td>\n",
       "      <td>18:35:00</td>\n",
       "      <td>Near Butte, Alaska</td>\n",
       "      <td>Soloy Helicopters</td>\n",
       "      <td>0</td>\n",
       "      <td>Sightseeing Charter</td>\n",
       "      <td>Eurocopter AS350B3 Ecureuil</td>\n",
       "      <td>4598</td>\n",
       "      <td>6</td>\n",
       "      <td>5</td>\n",
       "      <td>1</td>\n",
       "      <td>5</td>\n",
       "      <td>4</td>\n",
       "      <td>1</td>\n",
       "      <td>0</td>\n",
       "      <td>United States</td>\n",
       "      <td>no-militar</td>\n",
       "      <td>Otros</td>\n",
       "      <td>1</td>\n",
       "      <td>2021</td>\n",
       "    </tr>\n",
       "    <tr>\n",
       "      <th>5004</th>\n",
       "      <td>2021-05-21</td>\n",
       "      <td>18:00:00</td>\n",
       "      <td>Near Kaduna, Nigeria</td>\n",
       "      <td>Military - Nigerian Air Force</td>\n",
       "      <td>0</td>\n",
       "      <td></td>\n",
       "      <td>Beechcraft B300 King Air 350i</td>\n",
       "      <td>0</td>\n",
       "      <td>11</td>\n",
       "      <td>7</td>\n",
       "      <td>4</td>\n",
       "      <td>11</td>\n",
       "      <td>7</td>\n",
       "      <td>4</td>\n",
       "      <td>0</td>\n",
       "      <td>Nigeria</td>\n",
       "      <td>militar</td>\n",
       "      <td>Beechcraft King Air 350</td>\n",
       "      <td>0</td>\n",
       "      <td>2021</td>\n",
       "    </tr>\n",
       "    <tr>\n",
       "      <th>5005</th>\n",
       "      <td>2021-06-10</td>\n",
       "      <td>08:00:00</td>\n",
       "      <td>Near Pyin Oo Lwin, Myanmar</td>\n",
       "      <td>Military - Myanmar Air Force</td>\n",
       "      <td>0</td>\n",
       "      <td>Naypyidaw - Anisakan</td>\n",
       "      <td>Beechcraft 1900D</td>\n",
       "      <td>0</td>\n",
       "      <td>14</td>\n",
       "      <td>12</td>\n",
       "      <td>2</td>\n",
       "      <td>12</td>\n",
       "      <td>11</td>\n",
       "      <td>1</td>\n",
       "      <td>0</td>\n",
       "      <td>Myanmar</td>\n",
       "      <td>militar</td>\n",
       "      <td>Beechcraft King Air 350</td>\n",
       "      <td>2</td>\n",
       "      <td>2021</td>\n",
       "    </tr>\n",
       "    <tr>\n",
       "      <th>5006</th>\n",
       "      <td>2021-07-04</td>\n",
       "      <td>NaT</td>\n",
       "      <td>Patikul, Sulu, Philippines</td>\n",
       "      <td>Military - Philippine Air Force</td>\n",
       "      <td>0</td>\n",
       "      <td>Cagayan de Oro-Lumbia - Jolo</td>\n",
       "      <td>Lockheed C-130H Hercules</td>\n",
       "      <td>5125</td>\n",
       "      <td>96</td>\n",
       "      <td>88</td>\n",
       "      <td>8</td>\n",
       "      <td>50</td>\n",
       "      <td>0</td>\n",
       "      <td>0</td>\n",
       "      <td>3</td>\n",
       "      <td>Philippines</td>\n",
       "      <td>militar</td>\n",
       "      <td>Lockheed Martin F-35</td>\n",
       "      <td>46</td>\n",
       "      <td>2021</td>\n",
       "    </tr>\n",
       "    <tr>\n",
       "      <th>5007</th>\n",
       "      <td>2021-07-06</td>\n",
       "      <td>15:00:00</td>\n",
       "      <td>Palana, Russia</td>\n",
       "      <td>Kamchatka Aviation Enterprise</td>\n",
       "      <td>251</td>\n",
       "      <td>Petropavlovsk - Palana</td>\n",
       "      <td>Antonov An 26B-100</td>\n",
       "      <td>12310</td>\n",
       "      <td>28</td>\n",
       "      <td>22</td>\n",
       "      <td>6</td>\n",
       "      <td>28</td>\n",
       "      <td>22</td>\n",
       "      <td>6</td>\n",
       "      <td>0</td>\n",
       "      <td>Russia</td>\n",
       "      <td>no-militar</td>\n",
       "      <td>Antonov An-124 Ruslan</td>\n",
       "      <td>0</td>\n",
       "      <td>2021</td>\n",
       "    </tr>\n",
       "  </tbody>\n",
       "</table>\n",
       "<p>5008 rows × 20 columns</p>\n",
       "</div>"
      ],
      "text/plain": [
       "          Fecha Hora_Declarada                           Ubicacion  \\\n",
       "0    1908-09-17       17:18:00                 Fort Myer, Virginia   \n",
       "1    1909-09-07            NaT             Juvisy-sur-Orge, France   \n",
       "2    1912-07-12       06:30:00           Atlantic City, New Jersey   \n",
       "3    1913-08-06            NaT  Victoria, British Columbia, Canada   \n",
       "4    1913-09-09       18:30:00                  Over the North Sea   \n",
       "...         ...            ...                                 ...   \n",
       "5003 2021-03-28       18:35:00                  Near Butte, Alaska   \n",
       "5004 2021-05-21       18:00:00                Near Kaduna, Nigeria   \n",
       "5005 2021-06-10       08:00:00          Near Pyin Oo Lwin, Myanmar   \n",
       "5006 2021-07-04            NaT          Patikul, Sulu, Philippines   \n",
       "5007 2021-07-06       15:00:00                      Palana, Russia   \n",
       "\n",
       "                             Operador  Numero_de_Vuelo  \\\n",
       "0                Military - U.S. Army                0   \n",
       "1                                                    0   \n",
       "2                Military - U.S. Navy                0   \n",
       "3                             Private                0   \n",
       "4              Military - German Navy                0   \n",
       "...                               ...              ...   \n",
       "5003                Soloy Helicopters                0   \n",
       "5004    Military - Nigerian Air Force                0   \n",
       "5005     Military - Myanmar Air Force                0   \n",
       "5006  Military - Philippine Air Force                0   \n",
       "5007    Kamchatka Aviation Enterprise              251   \n",
       "\n",
       "                    Ruta_del_Vuelo               Tipo_de_Aeronave  \\\n",
       "0                    Demonstration               Wright Flyer III   \n",
       "1                         Air show                 Wright Byplane   \n",
       "2                      Test flight                      Dirigible   \n",
       "3                                                Curtiss seaplane   \n",
       "4                                          Zeppelin L-1 (airship)   \n",
       "...                            ...                            ...   \n",
       "5003           Sightseeing Charter    Eurocopter AS350B3 Ecureuil   \n",
       "5004                                Beechcraft B300 King Air 350i   \n",
       "5005          Naypyidaw - Anisakan               Beechcraft 1900D   \n",
       "5006  Cagayan de Oro-Lumbia - Jolo       Lockheed C-130H Hercules   \n",
       "5007        Petropavlovsk - Palana             Antonov An 26B-100   \n",
       "\n",
       "      Numero_de_Serie  Total_Personas_a_Bordo  Pasajeros_a_Bordo  \\\n",
       "0                   1                       2                  1   \n",
       "1                   0                       1                  0   \n",
       "2                   0                       5                  0   \n",
       "3                   0                       1                  0   \n",
       "4                   0                      20                  0   \n",
       "...               ...                     ...                ...   \n",
       "5003             4598                       6                  5   \n",
       "5004                0                      11                  7   \n",
       "5005                0                      14                 12   \n",
       "5006             5125                      96                 88   \n",
       "5007            12310                      28                 22   \n",
       "\n",
       "      Tripulacion_a_Bordo  Total_Fallecidos  Fallecidos_Pasajeros  \\\n",
       "0                       1                 1                     1   \n",
       "1                       1                 1                     0   \n",
       "2                       5                 5                     0   \n",
       "3                       1                 1                     0   \n",
       "4                       0                14                     0   \n",
       "...                   ...               ...                   ...   \n",
       "5003                    1                 5                     4   \n",
       "5004                    4                11                     7   \n",
       "5005                    2                12                    11   \n",
       "5006                    8                50                     0   \n",
       "5007                    6                28                    22   \n",
       "\n",
       "      Fallecidos_Tripulacion  Daños_en_Suelo           Pais  Tipo_Avion  \\\n",
       "0                          0               0  United States     militar   \n",
       "1                          0               0         France  no-militar   \n",
       "2                          5               0  United States     militar   \n",
       "3                          1               0         Canada  no-militar   \n",
       "4                          0               0          otros     militar   \n",
       "...                      ...             ...            ...         ...   \n",
       "5003                       1               0  United States  no-militar   \n",
       "5004                       4               0        Nigeria     militar   \n",
       "5005                       1               0        Myanmar     militar   \n",
       "5006                       0               3    Philippines     militar   \n",
       "5007                       6               0         Russia  no-militar   \n",
       "\n",
       "                  Marca_Avion  Sobrevivientes   Año  \n",
       "0                       Otros               1  1908  \n",
       "1                       Otros               0  1909  \n",
       "2                       Otros               0  1912  \n",
       "3                       Otros               0  1913  \n",
       "4                       Otros               6  1913  \n",
       "...                       ...             ...   ...  \n",
       "5003                    Otros               1  2021  \n",
       "5004  Beechcraft King Air 350               0  2021  \n",
       "5005  Beechcraft King Air 350               2  2021  \n",
       "5006     Lockheed Martin F-35              46  2021  \n",
       "5007    Antonov An-124 Ruslan               0  2021  \n",
       "\n",
       "[5008 rows x 20 columns]"
      ]
     },
     "execution_count": 56,
     "metadata": {},
     "output_type": "execute_result"
    }
   ],
   "source": [
    "# Borramos columnas que no vamos a analizar \n",
    "Accidentes_Aviones.columns\n",
    "Accidentes_Aviones.drop(columns= ['Resumen','Registro',\"Año\"])"
   ]
  },
  {
   "cell_type": "markdown",
   "metadata": {},
   "source": [
    "Después de la transformación de datos y la modificación de tipos de datos, se identificaron muchos valores nulos en el dataframe. En lugar de eliminarlos y perder información importante, opté por mantenerlos como valores nulos para preservar la integridad de los datos."
   ]
  },
  {
   "cell_type": "markdown",
   "metadata": {},
   "source": [
    "## Valores atipicos (outliers)"
   ]
  },
  {
   "cell_type": "markdown",
   "metadata": {},
   "source": [
    "Usamos un grafico de dispersion para ver los outliers que nos puede estar afectando a nuestros analisis y graficos. "
   ]
  },
  {
   "cell_type": "code",
   "execution_count": 30,
   "metadata": {},
   "outputs": [
    {
     "data": {
      "text/plain": [
       "<matplotlib.collections.PathCollection at 0x245a1ca0460>"
      ]
     },
     "execution_count": 30,
     "metadata": {},
     "output_type": "execute_result"
    },
    {
     "data": {
      "image/png": "[encoded data removed]",
      "text/plain": [
       "<Figure size 800x600 with 1 Axes>"
      ]
     },
     "metadata": {},
     "output_type": "display_data"
    }
   ],
   "source": [
    "import matplotlib.pyplot as plt\n",
    "plt.figure(figsize=(8, 6))\n",
    "plt.scatter(Accidentes_Aviones['Fecha'], Accidentes_Aviones['Total_Fallecidos'])"
   ]
  },
  {
   "cell_type": "markdown",
   "metadata": {},
   "source": [
    "Observamos que cuando la cantidad de accidentes supera los 400, es posible que se presenten valores atípicos en la distribución de los datos.\n",
    "\n",
    "Analizamos lo que ocurrió en los accidentes que tuvieron número de víctimas superior a 400."
   ]
  },
  {
   "cell_type": "code",
   "execution_count": 31,
   "metadata": {},
   "outputs": [
    {
     "data": {
      "text/html": [
       "<div>\n",
       "<style scoped>\n",
       "    .dataframe tbody tr th:only-of-type {\n",
       "        vertical-align: middle;\n",
       "    }\n",
       "\n",
       "    .dataframe tbody tr th {\n",
       "        vertical-align: top;\n",
       "    }\n",
       "\n",
       "    .dataframe thead th {\n",
       "        text-align: right;\n",
       "    }\n",
       "</style>\n",
       "<table border=\"1\" class=\"dataframe\">\n",
       "  <thead>\n",
       "    <tr style=\"text-align: right;\">\n",
       "      <th></th>\n",
       "      <th>Id</th>\n",
       "      <th>Fecha</th>\n",
       "      <th>Hora_Declarada</th>\n",
       "      <th>Ubicacion</th>\n",
       "      <th>Operador</th>\n",
       "      <th>Numero_de_Vuelo</th>\n",
       "      <th>Ruta_del_Vuelo</th>\n",
       "      <th>Tipo_de_Aeronave</th>\n",
       "      <th>Registro</th>\n",
       "      <th>Numero_de_Serie</th>\n",
       "      <th>...</th>\n",
       "      <th>Tripulacion_a_Bordo</th>\n",
       "      <th>Total_Fallecidos</th>\n",
       "      <th>Fallecidos_Pasajeros</th>\n",
       "      <th>Fallecidos_Tripulacion</th>\n",
       "      <th>Daños_en_Suelo</th>\n",
       "      <th>Resumen</th>\n",
       "      <th>Pais</th>\n",
       "      <th>Tipo_Avion</th>\n",
       "      <th>Marca_Avion</th>\n",
       "      <th>Sobrevivientes</th>\n",
       "    </tr>\n",
       "  </thead>\n",
       "  <tbody>\n",
       "    <tr>\n",
       "      <th>2902</th>\n",
       "      <td>2902</td>\n",
       "      <td>1977-03-27</td>\n",
       "      <td>17:07:00</td>\n",
       "      <td>Tenerife, Canary Islands</td>\n",
       "      <td>Pan American World Airways / KLM</td>\n",
       "      <td>0</td>\n",
       "      <td>Tenerife - Las Palmas / Tenerife - Las Palmas</td>\n",
       "      <td>Boeing B-747-121 / Boeing B-747-206B</td>\n",
       "      <td>N736PA/PH-BUF</td>\n",
       "      <td>0</td>\n",
       "      <td>...</td>\n",
       "      <td>30</td>\n",
       "      <td>583</td>\n",
       "      <td>560</td>\n",
       "      <td>23</td>\n",
       "      <td>0</td>\n",
       "      <td>Both aircraft were diverted to Tenerife becaus...</td>\n",
       "      <td>otros</td>\n",
       "      <td>no-militar</td>\n",
       "      <td>Boeing 747</td>\n",
       "      <td>61</td>\n",
       "    </tr>\n",
       "    <tr>\n",
       "      <th>3341</th>\n",
       "      <td>3341</td>\n",
       "      <td>1985-08-12</td>\n",
       "      <td>18:56:00</td>\n",
       "      <td>Mt. Osutaka, near Ueno Village, Japan</td>\n",
       "      <td>Japan Air Lines</td>\n",
       "      <td>123</td>\n",
       "      <td>Tokyo - Osaka</td>\n",
       "      <td>Boeing B-747-SR46</td>\n",
       "      <td>JA8119</td>\n",
       "      <td>0</td>\n",
       "      <td>...</td>\n",
       "      <td>15</td>\n",
       "      <td>520</td>\n",
       "      <td>505</td>\n",
       "      <td>15</td>\n",
       "      <td>0</td>\n",
       "      <td>The aircraft suffered an aft pressure bulkhead...</td>\n",
       "      <td>Japan</td>\n",
       "      <td>no-militar</td>\n",
       "      <td>Boeing 747</td>\n",
       "      <td>4</td>\n",
       "    </tr>\n",
       "  </tbody>\n",
       "</table>\n",
       "<p>2 rows × 22 columns</p>\n",
       "</div>"
      ],
      "text/plain": [
       "        Id      Fecha Hora_Declarada                              Ubicacion  \\\n",
       "2902  2902 1977-03-27       17:07:00               Tenerife, Canary Islands   \n",
       "3341  3341 1985-08-12       18:56:00  Mt. Osutaka, near Ueno Village, Japan   \n",
       "\n",
       "                              Operador  Numero_de_Vuelo  \\\n",
       "2902  Pan American World Airways / KLM                0   \n",
       "3341                   Japan Air Lines              123   \n",
       "\n",
       "                                     Ruta_del_Vuelo  \\\n",
       "2902  Tenerife - Las Palmas / Tenerife - Las Palmas   \n",
       "3341                                  Tokyo - Osaka   \n",
       "\n",
       "                          Tipo_de_Aeronave       Registro  Numero_de_Serie  \\\n",
       "2902  Boeing B-747-121 / Boeing B-747-206B  N736PA/PH-BUF                0   \n",
       "3341                     Boeing B-747-SR46         JA8119                0   \n",
       "\n",
       "      ...  Tripulacion_a_Bordo  Total_Fallecidos  Fallecidos_Pasajeros  \\\n",
       "2902  ...                   30               583                   560   \n",
       "3341  ...                   15               520                   505   \n",
       "\n",
       "      Fallecidos_Tripulacion  Daños_en_Suelo  \\\n",
       "2902                      23               0   \n",
       "3341                      15               0   \n",
       "\n",
       "                                                Resumen   Pais  Tipo_Avion  \\\n",
       "2902  Both aircraft were diverted to Tenerife becaus...  otros  no-militar   \n",
       "3341  The aircraft suffered an aft pressure bulkhead...  Japan  no-militar   \n",
       "\n",
       "     Marca_Avion Sobrevivientes  \n",
       "2902  Boeing 747             61  \n",
       "3341  Boeing 747              4  \n",
       "\n",
       "[2 rows x 22 columns]"
      ]
     },
     "execution_count": 31,
     "metadata": {},
     "output_type": "execute_result"
    }
   ],
   "source": [
    "Posibles_Outliers = Accidentes_Aviones[Accidentes_Aviones[\"Total_Fallecidos\"]> 400]\n",
    "Posibles_Outliers"
   ]
  },
  {
   "cell_type": "markdown",
   "metadata": {},
   "source": [
    "El primer registro nos indica en la columna de resumen que la causa principal de más de 400 fallecidos fue una colisión entre dos aviones.\n",
    "\n",
    "El segundo registro que encontré en internet coincide con los datos en mi dataframe por lo que es correcto."
   ]
  },
  {
   "cell_type": "markdown",
   "metadata": {},
   "source": [
    "Calculamos si existen outliers con el metodo de rango intercuartílico"
   ]
  },
  {
   "cell_type": "code",
   "execution_count": 57,
   "metadata": {},
   "outputs": [],
   "source": [
    "# Calculamos el intercuartílico\n",
    "Q1 = Accidentes_Aviones['Total_Fallecidos'].quantile(0.25)\n",
    "Q3 = Accidentes_Aviones['Total_Fallecidos'].quantile(0.75)\n",
    "IQR = Q3 - Q1"
   ]
  },
  {
   "cell_type": "code",
   "execution_count": 58,
   "metadata": {},
   "outputs": [],
   "source": [
    "# Definimos los límites para los outliers\n",
    "limite_inferior = Q1 - 1.5 * IQR\n",
    "limite_superior = Q3 + 1.5 * IQR"
   ]
  },
  {
   "cell_type": "code",
   "execution_count": 59,
   "metadata": {},
   "outputs": [
    {
     "data": {
      "text/html": [
       "<div>\n",
       "<style scoped>\n",
       "    .dataframe tbody tr th:only-of-type {\n",
       "        vertical-align: middle;\n",
       "    }\n",
       "\n",
       "    .dataframe tbody tr th {\n",
       "        vertical-align: top;\n",
       "    }\n",
       "\n",
       "    .dataframe thead th {\n",
       "        text-align: right;\n",
       "    }\n",
       "</style>\n",
       "<table border=\"1\" class=\"dataframe\">\n",
       "  <thead>\n",
       "    <tr style=\"text-align: right;\">\n",
       "      <th></th>\n",
       "      <th>Id</th>\n",
       "      <th>Fecha</th>\n",
       "      <th>Hora_Declarada</th>\n",
       "      <th>Ubicacion</th>\n",
       "      <th>Operador</th>\n",
       "      <th>Numero_de_Vuelo</th>\n",
       "      <th>Ruta_del_Vuelo</th>\n",
       "      <th>Tipo_de_Aeronave</th>\n",
       "      <th>Registro</th>\n",
       "      <th>Numero_de_Serie</th>\n",
       "      <th>...</th>\n",
       "      <th>Total_Fallecidos</th>\n",
       "      <th>Fallecidos_Pasajeros</th>\n",
       "      <th>Fallecidos_Tripulacion</th>\n",
       "      <th>Daños_en_Suelo</th>\n",
       "      <th>Resumen</th>\n",
       "      <th>Pais</th>\n",
       "      <th>Tipo_Avion</th>\n",
       "      <th>Marca_Avion</th>\n",
       "      <th>Sobrevivientes</th>\n",
       "      <th>Año</th>\n",
       "    </tr>\n",
       "  </thead>\n",
       "  <tbody>\n",
       "  </tbody>\n",
       "</table>\n",
       "<p>0 rows × 23 columns</p>\n",
       "</div>"
      ],
      "text/plain": [
       "Empty DataFrame\n",
       "Columns: [Id, Fecha, Hora_Declarada, Ubicacion, Operador, Numero_de_Vuelo, Ruta_del_Vuelo, Tipo_de_Aeronave, Registro, Numero_de_Serie, Total_Personas_a_Bordo, Pasajeros_a_Bordo, Tripulacion_a_Bordo, Total_Fallecidos, Fallecidos_Pasajeros, Fallecidos_Tripulacion, Daños_en_Suelo, Resumen, Pais, Tipo_Avion, Marca_Avion, Sobrevivientes, Año]\n",
       "Index: []\n",
       "\n",
       "[0 rows x 23 columns]"
      ]
     },
     "execution_count": 59,
     "metadata": {},
     "output_type": "execute_result"
    }
   ],
   "source": [
    "# Observamos si existe outliers\n",
    "df_con_outliers = Accidentes_Aviones[(Accidentes_Aviones['Total_Fallecidos'] <= limite_inferior) & (Accidentes_Aviones['Total_Fallecidos'] >= limite_superior)]\n",
    "df_con_outliers"
   ]
  },
  {
   "cell_type": "markdown",
   "metadata": {},
   "source": [
    "Al utilizar un gráfico de dispersión y aplicar el método del rango intercuartílico, concluimos que no se encuentran valores atípicos (outliers) en la columna \"Total_Fallecidos\"."
   ]
  },
  {
   "cell_type": "markdown",
   "metadata": {},
   "source": [
    "## Registros duplicados."
   ]
  },
  {
   "cell_type": "code",
   "execution_count": 60,
   "metadata": {},
   "outputs": [
    {
     "data": {
      "text/plain": [
       "Series([], Name: Id, dtype: int64)"
      ]
     },
     "execution_count": 60,
     "metadata": {},
     "output_type": "execute_result"
    }
   ],
   "source": [
    "registros_duplicados = Accidentes_Aviones[\"Id\"][Accidentes_Aviones[\"Id\"].duplicated()]\n",
    "registros_duplicados"
   ]
  },
  {
   "cell_type": "markdown",
   "metadata": {},
   "source": [
    "No contiene datos duplicados el dataframe"
   ]
  },
  {
   "cell_type": "markdown",
   "metadata": {},
   "source": [
    "### Usamos una grafica de linea con los totales fallecidos con la fecha , para ver cuales fueron sus mayores accidentes a lo largo del tiempo\n"
   ]
  },
  {
   "cell_type": "code",
   "execution_count": 35,
   "metadata": {},
   "outputs": [
    {
     "data": {
      "text/plain": [
       "<Axes: xlabel='Fecha', ylabel='Total_Fallecidos'>"
      ]
     },
     "execution_count": 35,
     "metadata": {},
     "output_type": "execute_result"
    },
    {
     "data": {
      "image/png": "[encoded data removed]",
      "text/plain": [
       "<Figure size 640x480 with 1 Axes>"
      ]
     },
     "metadata": {},
     "output_type": "display_data"
    }
   ],
   "source": [
    "import seaborn as sns\n",
    "Fecha_Año = Accidentes_Aviones['Fecha'].dt.year\n",
    "sns.lineplot(x= Fecha_Año , y=\"Total_Fallecidos\", data=Accidentes_Aviones) "
   ]
  },
  {
   "cell_type": "code",
   "execution_count": 36,
   "metadata": {},
   "outputs": [
    {
     "data": {
      "text/plain": [
       "Index(['Id', 'Fecha', 'Hora_Declarada', 'Ubicacion', 'Operador',\n",
       "       'Numero_de_Vuelo', 'Ruta_del_Vuelo', 'Tipo_de_Aeronave', 'Registro',\n",
       "       'Numero_de_Serie', 'Total_Personas_a_Bordo', 'Pasajeros_a_Bordo',\n",
       "       'Tripulacion_a_Bordo', 'Total_Fallecidos', 'Fallecidos_Pasajeros',\n",
       "       'Fallecidos_Tripulacion', 'Daños_en_Suelo', 'Resumen', 'Pais',\n",
       "       'Tipo_Avion', 'Marca_Avion', 'Sobrevivientes'],\n",
       "      dtype='object')"
      ]
     },
     "execution_count": 36,
     "metadata": {},
     "output_type": "execute_result"
    }
   ],
   "source": [
    "Accidentes_Aviones.columns"
   ]
  },
  {
   "cell_type": "code",
   "execution_count": 37,
   "metadata": {},
   "outputs": [
    {
     "data": {
      "text/plain": [
       "count    5008.000000\n",
       "mean       22.258387\n",
       "std        34.983747\n",
       "min         0.000000\n",
       "25%         4.000000\n",
       "50%        11.000000\n",
       "75%        25.000000\n",
       "max       583.000000\n",
       "Name: Total_Fallecidos, dtype: float64"
      ]
     },
     "execution_count": 37,
     "metadata": {},
     "output_type": "execute_result"
    }
   ],
   "source": [
    "Accidentes_Aviones[\"Total_Fallecidos\"].describe()"
   ]
  },
  {
   "cell_type": "code",
   "execution_count": 38,
   "metadata": {},
   "outputs": [],
   "source": [
    "Accidentes_Aviones.to_csv(\"Accidentes_Aviones.csv\",index=False)"
   ]
  },
  {
   "cell_type": "markdown",
   "metadata": {},
   "source": [
    "## KPI`S"
   ]
  },
  {
   "cell_type": "markdown",
   "metadata": {},
   "source": [
    "### Tasa anual de mortalidad \n",
    "\n",
    "Tasa de Mortalidad = (Número de Muertes / Población Total) "
   ]
  },
  {
   "cell_type": "code",
   "execution_count": 40,
   "metadata": {},
   "outputs": [],
   "source": [
    "# Creamos una columna solamente por año\n",
    "Accidentes_Aviones['Año'] = Accidentes_Aviones['Fecha'].dt.year"
   ]
  },
  {
   "cell_type": "code",
   "execution_count": 41,
   "metadata": {},
   "outputs": [],
   "source": [
    "# Agrupamos por año\n",
    "Fallecidos_por_Año = Accidentes_Aviones.groupby('Año').agg({'Total_Fallecidos': 'sum', 'Total_Personas_a_Bordo': 'sum'})"
   ]
  },
  {
   "cell_type": "code",
   "execution_count": 42,
   "metadata": {},
   "outputs": [],
   "source": [
    "# Nuevo dataframe con tasa de mortalidad por año\n",
    "Fallecidos_por_Año[\"Tasa_Mortalidad_Anual\"] = Fallecidos_por_Año[\"Total_Fallecidos\"] / Fallecidos_por_Año[\"Total_Personas_a_Bordo\"]"
   ]
  },
  {
   "cell_type": "code",
   "execution_count": 43,
   "metadata": {},
   "outputs": [
    {
     "data": {
      "text/html": [
       "<div>\n",
       "<style scoped>\n",
       "    .dataframe tbody tr th:only-of-type {\n",
       "        vertical-align: middle;\n",
       "    }\n",
       "\n",
       "    .dataframe tbody tr th {\n",
       "        vertical-align: top;\n",
       "    }\n",
       "\n",
       "    .dataframe thead th {\n",
       "        text-align: right;\n",
       "    }\n",
       "</style>\n",
       "<table border=\"1\" class=\"dataframe\">\n",
       "  <thead>\n",
       "    <tr style=\"text-align: right;\">\n",
       "      <th></th>\n",
       "      <th>Total_Fallecidos</th>\n",
       "      <th>Total_Personas_a_Bordo</th>\n",
       "      <th>Tasa_Mortalidad_Anual</th>\n",
       "    </tr>\n",
       "    <tr>\n",
       "      <th>Año</th>\n",
       "      <th></th>\n",
       "      <th></th>\n",
       "      <th></th>\n",
       "    </tr>\n",
       "  </thead>\n",
       "  <tbody>\n",
       "    <tr>\n",
       "      <th>1908</th>\n",
       "      <td>1</td>\n",
       "      <td>2</td>\n",
       "      <td>0.500000</td>\n",
       "    </tr>\n",
       "    <tr>\n",
       "      <th>1909</th>\n",
       "      <td>1</td>\n",
       "      <td>1</td>\n",
       "      <td>1.000000</td>\n",
       "    </tr>\n",
       "    <tr>\n",
       "      <th>1912</th>\n",
       "      <td>5</td>\n",
       "      <td>5</td>\n",
       "      <td>1.000000</td>\n",
       "    </tr>\n",
       "    <tr>\n",
       "      <th>1913</th>\n",
       "      <td>43</td>\n",
       "      <td>49</td>\n",
       "      <td>0.877551</td>\n",
       "    </tr>\n",
       "    <tr>\n",
       "      <th>1915</th>\n",
       "      <td>36</td>\n",
       "      <td>60</td>\n",
       "      <td>0.600000</td>\n",
       "    </tr>\n",
       "    <tr>\n",
       "      <th>...</th>\n",
       "      <td>...</td>\n",
       "      <td>...</td>\n",
       "      <td>...</td>\n",
       "    </tr>\n",
       "    <tr>\n",
       "      <th>2017</th>\n",
       "      <td>214</td>\n",
       "      <td>245</td>\n",
       "      <td>0.873469</td>\n",
       "    </tr>\n",
       "    <tr>\n",
       "      <th>2018</th>\n",
       "      <td>874</td>\n",
       "      <td>1239</td>\n",
       "      <td>0.705408</td>\n",
       "    </tr>\n",
       "    <tr>\n",
       "      <th>2019</th>\n",
       "      <td>305</td>\n",
       "      <td>432</td>\n",
       "      <td>0.706019</td>\n",
       "    </tr>\n",
       "    <tr>\n",
       "      <th>2020</th>\n",
       "      <td>355</td>\n",
       "      <td>703</td>\n",
       "      <td>0.504979</td>\n",
       "    </tr>\n",
       "    <tr>\n",
       "      <th>2021</th>\n",
       "      <td>178</td>\n",
       "      <td>227</td>\n",
       "      <td>0.784141</td>\n",
       "    </tr>\n",
       "  </tbody>\n",
       "</table>\n",
       "<p>111 rows × 3 columns</p>\n",
       "</div>"
      ],
      "text/plain": [
       "      Total_Fallecidos  Total_Personas_a_Bordo  Tasa_Mortalidad_Anual\n",
       "Año                                                                  \n",
       "1908                 1                       2               0.500000\n",
       "1909                 1                       1               1.000000\n",
       "1912                 5                       5               1.000000\n",
       "1913                43                      49               0.877551\n",
       "1915                36                      60               0.600000\n",
       "...                ...                     ...                    ...\n",
       "2017               214                     245               0.873469\n",
       "2018               874                    1239               0.705408\n",
       "2019               305                     432               0.706019\n",
       "2020               355                     703               0.504979\n",
       "2021               178                     227               0.784141\n",
       "\n",
       "[111 rows x 3 columns]"
      ]
     },
     "execution_count": 43,
     "metadata": {},
     "output_type": "execute_result"
    }
   ],
   "source": [
    "Fallecidos_por_Año"
   ]
  },
  {
   "cell_type": "code",
   "execution_count": 64,
   "metadata": {},
   "outputs": [
    {
     "data": {
      "text/plain": [
       "<Axes: xlabel='Año', ylabel='Tasa_Mortalidad_Anual'>"
      ]
     },
     "execution_count": 64,
     "metadata": {},
     "output_type": "execute_result"
    },
    {
     "data": {
      "image/png": "[encoded data removed]",
      "text/plain": [
       "<Figure size 640x480 with 1 Axes>"
      ]
     },
     "metadata": {},
     "output_type": "display_data"
    }
   ],
   "source": [
    "# Graficamos\n",
    "sns.lineplot(data=Fallecidos_por_Año, x=Fallecidos_por_Año.index, y='Tasa_Mortalidad_Anual', linewidth=2, markers=False)"
   ]
  },
  {
   "cell_type": "markdown",
   "metadata": {},
   "source": [
    "La gráfica indica que la tasa de mortalidad obtuvo una disminución notable desde la década de 1920 hasta alrededor del año 2000. Sin embargo, a partir del año 2000 y hasta el 2021, esta tasa se mantuvo estable sin mostrar una tendencia clara en ninguna dirección."
   ]
  },
  {
   "cell_type": "markdown",
   "metadata": {},
   "source": [
    "### Kpi 1 : Evaluar la disminución de un 10% la tasa de fatalidad de la tripulación en los últimos 10 años, comparado a la década anterior."
   ]
  },
  {
   "cell_type": "code",
   "execution_count": 65,
   "metadata": {},
   "outputs": [],
   "source": [
    "# Nuevo dataframe Mortalidad_tripulacion\n",
    "\n",
    "Mortalidad_Tripulacion =  pd.DataFrame(Accidentes_Aviones.groupby('Año').agg({'Fallecidos_Tripulacion': 'sum', 'Tripulacion_a_Bordo': 'sum'}).reset_index())"
   ]
  },
  {
   "cell_type": "code",
   "execution_count": 66,
   "metadata": {},
   "outputs": [],
   "source": [
    "# Agregamos la columna \"Tasa_Mortalidad_Tripulacion\"\n",
    "Mortalidad_Tripulacion[\"Tasa_Mortalidad_Tripulacion\"] = Mortalidad_Tripulacion[\"Fallecidos_Tripulacion\"] / Mortalidad_Tripulacion[\"Tripulacion_a_Bordo\"]"
   ]
  },
  {
   "cell_type": "code",
   "execution_count": 67,
   "metadata": {},
   "outputs": [
    {
     "data": {
      "text/html": [
       "<div>\n",
       "<style scoped>\n",
       "    .dataframe tbody tr th:only-of-type {\n",
       "        vertical-align: middle;\n",
       "    }\n",
       "\n",
       "    .dataframe tbody tr th {\n",
       "        vertical-align: top;\n",
       "    }\n",
       "\n",
       "    .dataframe thead th {\n",
       "        text-align: right;\n",
       "    }\n",
       "</style>\n",
       "<table border=\"1\" class=\"dataframe\">\n",
       "  <thead>\n",
       "    <tr style=\"text-align: right;\">\n",
       "      <th></th>\n",
       "      <th>Década</th>\n",
       "      <th>Tasa de Fatalidad</th>\n",
       "      <th>Diferencia de Tasas</th>\n",
       "    </tr>\n",
       "  </thead>\n",
       "  <tbody>\n",
       "    <tr>\n",
       "      <th>0</th>\n",
       "      <td>2000-2010</td>\n",
       "      <td>0.784833</td>\n",
       "      <td>NaN</td>\n",
       "    </tr>\n",
       "    <tr>\n",
       "      <th>1</th>\n",
       "      <td>2010-2020</td>\n",
       "      <td>0.824477</td>\n",
       "      <td>0.039645</td>\n",
       "    </tr>\n",
       "  </tbody>\n",
       "</table>\n",
       "</div>"
      ],
      "text/plain": [
       "      Década  Tasa de Fatalidad   Diferencia de Tasas\n",
       "0  2000-2010            0.784833                  NaN\n",
       "1  2010-2020            0.824477             0.039645"
      ]
     },
     "execution_count": 67,
     "metadata": {},
     "output_type": "execute_result"
    }
   ],
   "source": [
    "# Calculamos la tasa de fatalidad promedio para la última década (2010-2020)\n",
    "tasa_fatalidad_ultima_decada = Mortalidad_Tripulacion[(Mortalidad_Tripulacion['Año'] >= 2010) & (Mortalidad_Tripulacion['Año'] <= 2020)]['Tasa_Mortalidad_Tripulacion'].mean()\n",
    "\n",
    "# Calculamos la tasa de fatalidad promedio para la década anterior (2000-2010)\n",
    "tasa_fatalidad_decada_anterior = Mortalidad_Tripulacion[(Mortalidad_Tripulacion['Año'] >= 2000) & (Mortalidad_Tripulacion['Año'] <= 2010)]['Tasa_Mortalidad_Tripulacion'].mean()\n",
    "\n",
    "# Calcular la diferencia entre ambas tasas de fatalidad\n",
    "diferencia_tasas = tasa_fatalidad_ultima_decada - tasa_fatalidad_decada_anterior\n",
    "\n",
    "# Crear un DataFrame con los resultados\n",
    "data = {'Década': ['2000-2010','2010-2020'],\n",
    "        'Tasa de Fatalidad ': [tasa_fatalidad_decada_anterior,tasa_fatalidad_ultima_decada],\n",
    "        'Diferencia de Tasas': [ None,diferencia_tasas]}\n",
    "\n",
    "df_resultado = pd.DataFrame(data)\n",
    "df_resultado\n"
   ]
  },
  {
   "cell_type": "markdown",
   "metadata": {},
   "source": [
    "Se observa que la tasa de mortalidad de la tripulación no ha cumplido con el objetivo, ya que experimentó un aumento del 3.9% en comparación con la década anterior (2000-2010) con respecto a la última década (2010-2020)."
   ]
  },
  {
   "cell_type": "markdown",
   "metadata": {},
   "source": [
    "### Kpi 2:  Media móvil de accidentes de aeronaves. Objetivo: mantenerse por debajo de la media"
   ]
  },
  {
   "cell_type": "code",
   "execution_count": 68,
   "metadata": {},
   "outputs": [],
   "source": [
    "# Agrupamos por año y contamos la cantidad de accidentes\n",
    "Accidentes_Año = Accidentes_Aviones.groupby('Año').size().reset_index(name='Cantidad de accidentes')"
   ]
  },
  {
   "cell_type": "code",
   "execution_count": 69,
   "metadata": {},
   "outputs": [],
   "source": [
    "# Calculamos la media móvil de 10 sesiones con el parametro windows\n",
    "Accidentes_Año['Media móvil'] = Accidentes_Año['Cantidad de accidentes'].rolling(window=10).mean()"
   ]
  },
  {
   "cell_type": "code",
   "execution_count": 70,
   "metadata": {},
   "outputs": [
    {
     "data": {
      "text/plain": [
       "<Axes: xlabel='Año', ylabel='Cantidad de accidentes'>"
      ]
     },
     "execution_count": 70,
     "metadata": {},
     "output_type": "execute_result"
    },
    {
     "data": {
      "image/png": "[encoded data removed]",
      "text/plain": [
       "<Figure size 1400x600 with 1 Axes>"
      ]
     },
     "metadata": {},
     "output_type": "display_data"
    }
   ],
   "source": [
    "# Creamos el gráfico de líneas\n",
    "plt.figure(figsize=(14, 6))\n",
    "sns.lineplot(data=Accidentes_Año, x='Año', y='Cantidad de accidentes', color='blue', label='Cantidad de accidentes')\n",
    "sns.lineplot(data=Accidentes_Año, x='Año', y='Media móvil', color='red', label='Media móvil')"
   ]
  },
  {
   "cell_type": "markdown",
   "metadata": {},
   "source": [
    "\n",
    "En la gráfica, podemos interpretar que la cantidad de accidentes que supera la media móvil se corresponde con los años en los que se registraron más accidentes de aeronaves, mientras que aquellos que se encuentran por debajo de la media móvil representan los años con una menor cantidad de accidentes. A partir del año 2000 en adelante, observamos que estamos cumpliendo el objetivo de mantenernos por debajo de la media móvil."
   ]
  }
 ],
 "metadata": {
  "kernelspec": {
   "display_name": "Python 3",
   "language": "python",
   "name": "python3"
  },
  "language_info": {
   "codemirror_mode": {
    "name": "ipython",
    "version": 3
   },
   "file_extension": ".py",
   "mimetype": "text/x-python",
   "name": "python",
   "nbconvert_exporter": "python",
   "pygments_lexer": "ipython3",
   "version": "3.9.13"
  },
  "orig_nbformat": 4
 },
 "nbformat": 4,
 "nbformat_minor": 2
}
